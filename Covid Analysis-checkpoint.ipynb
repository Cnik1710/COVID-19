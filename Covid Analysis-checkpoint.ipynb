{
 "cells": [
  {
   "cell_type": "code",
   "execution_count": 144,
   "id": "a1e48a1c",
   "metadata": {},
   "outputs": [],
   "source": [
    "import pandas as pd\n",
    "# Load the datasets\n",
    "confirmed_cases = pd.read_csv('covid_19_confirmed_v1.csv')\n",
    "deaths = pd.read_csv('covid_19_deaths_v1.csv')\n",
    "recovered_cases = pd.read_csv('covid_19_recovered_v1.csv')"
   ]
  },
  {
   "cell_type": "code",
   "execution_count": 145,
   "id": "f4b8e83d",
   "metadata": {},
   "outputs": [
    {
     "data": {
      "text/html": [
       "<div>\n",
       "<style scoped>\n",
       "    .dataframe tbody tr th:only-of-type {\n",
       "        vertical-align: middle;\n",
       "    }\n",
       "\n",
       "    .dataframe tbody tr th {\n",
       "        vertical-align: top;\n",
       "    }\n",
       "\n",
       "    .dataframe thead th {\n",
       "        text-align: right;\n",
       "    }\n",
       "</style>\n",
       "<table border=\"1\" class=\"dataframe\">\n",
       "  <thead>\n",
       "    <tr style=\"text-align: right;\">\n",
       "      <th></th>\n",
       "      <th>Province/State</th>\n",
       "      <th>Country/Region</th>\n",
       "      <th>Lat</th>\n",
       "      <th>Long</th>\n",
       "      <th>1/22/20</th>\n",
       "      <th>1/23/20</th>\n",
       "      <th>1/24/20</th>\n",
       "      <th>1/25/20</th>\n",
       "      <th>1/26/20</th>\n",
       "      <th>1/27/20</th>\n",
       "      <th>...</th>\n",
       "      <th>5/20/21</th>\n",
       "      <th>5/21/21</th>\n",
       "      <th>5/22/21</th>\n",
       "      <th>5/23/21</th>\n",
       "      <th>5/24/21</th>\n",
       "      <th>5/25/21</th>\n",
       "      <th>5/26/21</th>\n",
       "      <th>5/27/21</th>\n",
       "      <th>5/28/21</th>\n",
       "      <th>5/29/21</th>\n",
       "    </tr>\n",
       "  </thead>\n",
       "  <tbody>\n",
       "    <tr>\n",
       "      <th>0</th>\n",
       "      <td>NaN</td>\n",
       "      <td>Afghanistan</td>\n",
       "      <td>33.93911</td>\n",
       "      <td>67.709953</td>\n",
       "      <td>0</td>\n",
       "      <td>0</td>\n",
       "      <td>0</td>\n",
       "      <td>0</td>\n",
       "      <td>0</td>\n",
       "      <td>0</td>\n",
       "      <td>...</td>\n",
       "      <td>64575</td>\n",
       "      <td>65080</td>\n",
       "      <td>65486</td>\n",
       "      <td>65728</td>\n",
       "      <td>66275</td>\n",
       "      <td>66903</td>\n",
       "      <td>67743</td>\n",
       "      <td>68366</td>\n",
       "      <td>69130</td>\n",
       "      <td>70111</td>\n",
       "    </tr>\n",
       "    <tr>\n",
       "      <th>1</th>\n",
       "      <td>NaN</td>\n",
       "      <td>Albania</td>\n",
       "      <td>41.15330</td>\n",
       "      <td>20.168300</td>\n",
       "      <td>0</td>\n",
       "      <td>0</td>\n",
       "      <td>0</td>\n",
       "      <td>0</td>\n",
       "      <td>0</td>\n",
       "      <td>0</td>\n",
       "      <td>...</td>\n",
       "      <td>132118</td>\n",
       "      <td>132153</td>\n",
       "      <td>132176</td>\n",
       "      <td>132209</td>\n",
       "      <td>132215</td>\n",
       "      <td>132229</td>\n",
       "      <td>132244</td>\n",
       "      <td>132264</td>\n",
       "      <td>132285</td>\n",
       "      <td>132297</td>\n",
       "    </tr>\n",
       "    <tr>\n",
       "      <th>2</th>\n",
       "      <td>NaN</td>\n",
       "      <td>Algeria</td>\n",
       "      <td>28.03390</td>\n",
       "      <td>1.659600</td>\n",
       "      <td>0</td>\n",
       "      <td>0</td>\n",
       "      <td>0</td>\n",
       "      <td>0</td>\n",
       "      <td>0</td>\n",
       "      <td>0</td>\n",
       "      <td>...</td>\n",
       "      <td>126156</td>\n",
       "      <td>126434</td>\n",
       "      <td>126651</td>\n",
       "      <td>126860</td>\n",
       "      <td>127107</td>\n",
       "      <td>127361</td>\n",
       "      <td>127646</td>\n",
       "      <td>127926</td>\n",
       "      <td>128198</td>\n",
       "      <td>128456</td>\n",
       "    </tr>\n",
       "    <tr>\n",
       "      <th>3</th>\n",
       "      <td>NaN</td>\n",
       "      <td>Andorra</td>\n",
       "      <td>42.50630</td>\n",
       "      <td>1.521800</td>\n",
       "      <td>0</td>\n",
       "      <td>0</td>\n",
       "      <td>0</td>\n",
       "      <td>0</td>\n",
       "      <td>0</td>\n",
       "      <td>0</td>\n",
       "      <td>...</td>\n",
       "      <td>13569</td>\n",
       "      <td>13569</td>\n",
       "      <td>13569</td>\n",
       "      <td>13569</td>\n",
       "      <td>13569</td>\n",
       "      <td>13664</td>\n",
       "      <td>13671</td>\n",
       "      <td>13682</td>\n",
       "      <td>13693</td>\n",
       "      <td>13693</td>\n",
       "    </tr>\n",
       "    <tr>\n",
       "      <th>4</th>\n",
       "      <td>NaN</td>\n",
       "      <td>Angola</td>\n",
       "      <td>-11.20270</td>\n",
       "      <td>17.873900</td>\n",
       "      <td>0</td>\n",
       "      <td>0</td>\n",
       "      <td>0</td>\n",
       "      <td>0</td>\n",
       "      <td>0</td>\n",
       "      <td>0</td>\n",
       "      <td>...</td>\n",
       "      <td>31661</td>\n",
       "      <td>31909</td>\n",
       "      <td>32149</td>\n",
       "      <td>32441</td>\n",
       "      <td>32623</td>\n",
       "      <td>32933</td>\n",
       "      <td>33338</td>\n",
       "      <td>33607</td>\n",
       "      <td>33944</td>\n",
       "      <td>34180</td>\n",
       "    </tr>\n",
       "  </tbody>\n",
       "</table>\n",
       "<p>5 rows × 498 columns</p>\n",
       "</div>"
      ],
      "text/plain": [
       "  Province/State Country/Region       Lat       Long  1/22/20  1/23/20  \\\n",
       "0            NaN    Afghanistan  33.93911  67.709953        0        0   \n",
       "1            NaN        Albania  41.15330  20.168300        0        0   \n",
       "2            NaN        Algeria  28.03390   1.659600        0        0   \n",
       "3            NaN        Andorra  42.50630   1.521800        0        0   \n",
       "4            NaN         Angola -11.20270  17.873900        0        0   \n",
       "\n",
       "   1/24/20  1/25/20  1/26/20  1/27/20  ...  5/20/21  5/21/21  5/22/21  \\\n",
       "0        0        0        0        0  ...    64575    65080    65486   \n",
       "1        0        0        0        0  ...   132118   132153   132176   \n",
       "2        0        0        0        0  ...   126156   126434   126651   \n",
       "3        0        0        0        0  ...    13569    13569    13569   \n",
       "4        0        0        0        0  ...    31661    31909    32149   \n",
       "\n",
       "   5/23/21  5/24/21  5/25/21  5/26/21  5/27/21  5/28/21  5/29/21  \n",
       "0    65728    66275    66903    67743    68366    69130    70111  \n",
       "1   132209   132215   132229   132244   132264   132285   132297  \n",
       "2   126860   127107   127361   127646   127926   128198   128456  \n",
       "3    13569    13569    13664    13671    13682    13693    13693  \n",
       "4    32441    32623    32933    33338    33607    33944    34180  \n",
       "\n",
       "[5 rows x 498 columns]"
      ]
     },
     "execution_count": 145,
     "metadata": {},
     "output_type": "execute_result"
    }
   ],
   "source": [
    "confirmed_cases.head()"
   ]
  },
  {
   "cell_type": "code",
   "execution_count": 146,
   "id": "c2c0f8da",
   "metadata": {},
   "outputs": [
    {
     "name": "stdout",
     "output_type": "stream",
     "text": [
      "<class 'pandas.core.frame.DataFrame'>\n",
      "RangeIndex: 276 entries, 0 to 275\n",
      "Columns: 498 entries, Province/State to 5/29/21\n",
      "dtypes: float64(2), int64(494), object(2)\n",
      "memory usage: 1.0+ MB\n"
     ]
    }
   ],
   "source": [
    "info = confirmed_cases.info()"
   ]
  },
  {
   "cell_type": "code",
   "execution_count": 147,
   "id": "8ab347b3",
   "metadata": {},
   "outputs": [
    {
     "data": {
      "text/plain": [
       "Country/Region\n",
       "China             34\n",
       "Canada            16\n",
       "France            12\n",
       "United Kingdom    12\n",
       "Australia          8\n",
       "                  ..\n",
       "Grenada            1\n",
       "Guatemala          1\n",
       "Guinea             1\n",
       "Guinea-Bissau      1\n",
       "Zimbabwe           1\n",
       "Name: count, Length: 193, dtype: int64"
      ]
     },
     "execution_count": 147,
     "metadata": {},
     "output_type": "execute_result"
    }
   ],
   "source": [
    "confirmed_cases['Country/Region'].value_counts()"
   ]
  },
  {
   "cell_type": "code",
   "execution_count": 148,
   "id": "13376dc7",
   "metadata": {},
   "outputs": [
    {
     "data": {
      "text/plain": [
       "58             Anhui\n",
       "59           Beijing\n",
       "60         Chongqing\n",
       "61            Fujian\n",
       "62             Gansu\n",
       "63         Guangdong\n",
       "64           Guangxi\n",
       "65           Guizhou\n",
       "66            Hainan\n",
       "67             Hebei\n",
       "68      Heilongjiang\n",
       "69             Henan\n",
       "70         Hong Kong\n",
       "71             Hubei\n",
       "72             Hunan\n",
       "73    Inner Mongolia\n",
       "74           Jiangsu\n",
       "75           Jiangxi\n",
       "76             Jilin\n",
       "77          Liaoning\n",
       "78             Macau\n",
       "79           Ningxia\n",
       "80           Qinghai\n",
       "81           Shaanxi\n",
       "82          Shandong\n",
       "83          Shanghai\n",
       "84            Shanxi\n",
       "85           Sichuan\n",
       "86           Tianjin\n",
       "87             Tibet\n",
       "88           Unknown\n",
       "89          Xinjiang\n",
       "90            Yunnan\n",
       "91          Zhejiang\n",
       "Name: Province/State, dtype: object"
      ]
     },
     "execution_count": 148,
     "metadata": {},
     "output_type": "execute_result"
    }
   ],
   "source": [
    "confirmed_cases[confirmed_cases['Country/Region']=='China']['Province/State']"
   ]
  },
  {
   "cell_type": "code",
   "execution_count": 149,
   "id": "af43b21a",
   "metadata": {},
   "outputs": [
    {
     "data": {
      "text/plain": [
       "Province/State    68.840580\n",
       "Lat                0.724638\n",
       "Long               0.724638\n",
       "dtype: float64"
      ]
     },
     "execution_count": 149,
     "metadata": {},
     "output_type": "execute_result"
    }
   ],
   "source": [
    "confirmed_cases.isnull().mean()[confirmed_cases.isnull().mean().values > 0] * 100"
   ]
  },
  {
   "cell_type": "code",
   "execution_count": 150,
   "id": "d6942491",
   "metadata": {},
   "outputs": [],
   "source": [
    "confirmed_cases['Province/State'] = confirmed_cases['Province/State'].fillna('All Provinces')"
   ]
  },
  {
   "cell_type": "code",
   "execution_count": 151,
   "id": "a1071d4c",
   "metadata": {},
   "outputs": [],
   "source": [
    "confirmed_cases['Lat'] = confirmed_cases['Lat'].fillna(0)\n",
    "confirmed_cases['Long'] = confirmed_cases['Long'].fillna(0)"
   ]
  },
  {
   "cell_type": "code",
   "execution_count": 152,
   "id": "5c72b362",
   "metadata": {},
   "outputs": [],
   "source": [
    "confirmed_cases.fillna(method='ffill', inplace=True)"
   ]
  },
  {
   "cell_type": "code",
   "execution_count": 154,
   "id": "861ff3de",
   "metadata": {},
   "outputs": [
    {
     "data": {
      "text/html": [
       "<div>\n",
       "<style scoped>\n",
       "    .dataframe tbody tr th:only-of-type {\n",
       "        vertical-align: middle;\n",
       "    }\n",
       "\n",
       "    .dataframe tbody tr th {\n",
       "        vertical-align: top;\n",
       "    }\n",
       "\n",
       "    .dataframe thead th {\n",
       "        text-align: right;\n",
       "    }\n",
       "</style>\n",
       "<table border=\"1\" class=\"dataframe\">\n",
       "  <thead>\n",
       "    <tr style=\"text-align: right;\">\n",
       "      <th></th>\n",
       "      <th>Province/State</th>\n",
       "      <th>Country/Region</th>\n",
       "      <th>Lat</th>\n",
       "      <th>Long</th>\n",
       "      <th>1/22/20</th>\n",
       "      <th>1/23/20</th>\n",
       "      <th>1/24/20</th>\n",
       "      <th>1/25/20</th>\n",
       "      <th>1/26/20</th>\n",
       "      <th>1/27/20</th>\n",
       "      <th>...</th>\n",
       "      <th>5/20/21</th>\n",
       "      <th>5/21/21</th>\n",
       "      <th>5/22/21</th>\n",
       "      <th>5/23/21</th>\n",
       "      <th>5/24/21</th>\n",
       "      <th>5/25/21</th>\n",
       "      <th>5/26/21</th>\n",
       "      <th>5/27/21</th>\n",
       "      <th>5/28/21</th>\n",
       "      <th>5/29/21</th>\n",
       "    </tr>\n",
       "  </thead>\n",
       "  <tbody>\n",
       "    <tr>\n",
       "      <th>0</th>\n",
       "      <td>All Provinces</td>\n",
       "      <td>Afghanistan</td>\n",
       "      <td>33.93911</td>\n",
       "      <td>67.709953</td>\n",
       "      <td>0</td>\n",
       "      <td>0</td>\n",
       "      <td>0</td>\n",
       "      <td>0</td>\n",
       "      <td>0</td>\n",
       "      <td>0</td>\n",
       "      <td>...</td>\n",
       "      <td>64575</td>\n",
       "      <td>65080</td>\n",
       "      <td>65486</td>\n",
       "      <td>65728</td>\n",
       "      <td>66275</td>\n",
       "      <td>66903</td>\n",
       "      <td>67743</td>\n",
       "      <td>68366</td>\n",
       "      <td>69130</td>\n",
       "      <td>70111</td>\n",
       "    </tr>\n",
       "    <tr>\n",
       "      <th>1</th>\n",
       "      <td>All Provinces</td>\n",
       "      <td>Albania</td>\n",
       "      <td>41.15330</td>\n",
       "      <td>20.168300</td>\n",
       "      <td>0</td>\n",
       "      <td>0</td>\n",
       "      <td>0</td>\n",
       "      <td>0</td>\n",
       "      <td>0</td>\n",
       "      <td>0</td>\n",
       "      <td>...</td>\n",
       "      <td>132118</td>\n",
       "      <td>132153</td>\n",
       "      <td>132176</td>\n",
       "      <td>132209</td>\n",
       "      <td>132215</td>\n",
       "      <td>132229</td>\n",
       "      <td>132244</td>\n",
       "      <td>132264</td>\n",
       "      <td>132285</td>\n",
       "      <td>132297</td>\n",
       "    </tr>\n",
       "    <tr>\n",
       "      <th>2</th>\n",
       "      <td>All Provinces</td>\n",
       "      <td>Algeria</td>\n",
       "      <td>28.03390</td>\n",
       "      <td>1.659600</td>\n",
       "      <td>0</td>\n",
       "      <td>0</td>\n",
       "      <td>0</td>\n",
       "      <td>0</td>\n",
       "      <td>0</td>\n",
       "      <td>0</td>\n",
       "      <td>...</td>\n",
       "      <td>126156</td>\n",
       "      <td>126434</td>\n",
       "      <td>126651</td>\n",
       "      <td>126860</td>\n",
       "      <td>127107</td>\n",
       "      <td>127361</td>\n",
       "      <td>127646</td>\n",
       "      <td>127926</td>\n",
       "      <td>128198</td>\n",
       "      <td>128456</td>\n",
       "    </tr>\n",
       "    <tr>\n",
       "      <th>3</th>\n",
       "      <td>All Provinces</td>\n",
       "      <td>Andorra</td>\n",
       "      <td>42.50630</td>\n",
       "      <td>1.521800</td>\n",
       "      <td>0</td>\n",
       "      <td>0</td>\n",
       "      <td>0</td>\n",
       "      <td>0</td>\n",
       "      <td>0</td>\n",
       "      <td>0</td>\n",
       "      <td>...</td>\n",
       "      <td>13569</td>\n",
       "      <td>13569</td>\n",
       "      <td>13569</td>\n",
       "      <td>13569</td>\n",
       "      <td>13569</td>\n",
       "      <td>13664</td>\n",
       "      <td>13671</td>\n",
       "      <td>13682</td>\n",
       "      <td>13693</td>\n",
       "      <td>13693</td>\n",
       "    </tr>\n",
       "    <tr>\n",
       "      <th>4</th>\n",
       "      <td>All Provinces</td>\n",
       "      <td>Angola</td>\n",
       "      <td>-11.20270</td>\n",
       "      <td>17.873900</td>\n",
       "      <td>0</td>\n",
       "      <td>0</td>\n",
       "      <td>0</td>\n",
       "      <td>0</td>\n",
       "      <td>0</td>\n",
       "      <td>0</td>\n",
       "      <td>...</td>\n",
       "      <td>31661</td>\n",
       "      <td>31909</td>\n",
       "      <td>32149</td>\n",
       "      <td>32441</td>\n",
       "      <td>32623</td>\n",
       "      <td>32933</td>\n",
       "      <td>33338</td>\n",
       "      <td>33607</td>\n",
       "      <td>33944</td>\n",
       "      <td>34180</td>\n",
       "    </tr>\n",
       "  </tbody>\n",
       "</table>\n",
       "<p>5 rows × 498 columns</p>\n",
       "</div>"
      ],
      "text/plain": [
       "  Province/State Country/Region       Lat       Long  1/22/20  1/23/20  \\\n",
       "0  All Provinces    Afghanistan  33.93911  67.709953        0        0   \n",
       "1  All Provinces        Albania  41.15330  20.168300        0        0   \n",
       "2  All Provinces        Algeria  28.03390   1.659600        0        0   \n",
       "3  All Provinces        Andorra  42.50630   1.521800        0        0   \n",
       "4  All Provinces         Angola -11.20270  17.873900        0        0   \n",
       "\n",
       "   1/24/20  1/25/20  1/26/20  1/27/20  ...  5/20/21  5/21/21  5/22/21  \\\n",
       "0        0        0        0        0  ...    64575    65080    65486   \n",
       "1        0        0        0        0  ...   132118   132153   132176   \n",
       "2        0        0        0        0  ...   126156   126434   126651   \n",
       "3        0        0        0        0  ...    13569    13569    13569   \n",
       "4        0        0        0        0  ...    31661    31909    32149   \n",
       "\n",
       "   5/23/21  5/24/21  5/25/21  5/26/21  5/27/21  5/28/21  5/29/21  \n",
       "0    65728    66275    66903    67743    68366    69130    70111  \n",
       "1   132209   132215   132229   132244   132264   132285   132297  \n",
       "2   126860   127107   127361   127646   127926   128198   128456  \n",
       "3    13569    13569    13664    13671    13682    13693    13693  \n",
       "4    32441    32623    32933    33338    33607    33944    34180  \n",
       "\n",
       "[5 rows x 498 columns]"
      ]
     },
     "execution_count": 154,
     "metadata": {},
     "output_type": "execute_result"
    }
   ],
   "source": [
    "confirmed_cases.head()"
   ]
  },
  {
   "cell_type": "code",
   "execution_count": 159,
   "id": "5e8440f7",
   "metadata": {},
   "outputs": [],
   "source": [
    "top_countries = confirmed_cases.groupby('Country/Region').aggregate({'5/29/21':'sum'}).nlargest(n=3, columns='5/29/21')"
   ]
  },
  {
   "cell_type": "code",
   "execution_count": 160,
   "id": "2363b3dd",
   "metadata": {},
   "outputs": [
    {
     "data": {
      "text/html": [
       "<div>\n",
       "<style scoped>\n",
       "    .dataframe tbody tr th:only-of-type {\n",
       "        vertical-align: middle;\n",
       "    }\n",
       "\n",
       "    .dataframe tbody tr th {\n",
       "        vertical-align: top;\n",
       "    }\n",
       "\n",
       "    .dataframe thead th {\n",
       "        text-align: right;\n",
       "    }\n",
       "</style>\n",
       "<table border=\"1\" class=\"dataframe\">\n",
       "  <thead>\n",
       "    <tr style=\"text-align: right;\">\n",
       "      <th></th>\n",
       "      <th>5/29/21</th>\n",
       "    </tr>\n",
       "    <tr>\n",
       "      <th>Country/Region</th>\n",
       "      <th></th>\n",
       "    </tr>\n",
       "  </thead>\n",
       "  <tbody>\n",
       "    <tr>\n",
       "      <th>US</th>\n",
       "      <td>33251939</td>\n",
       "    </tr>\n",
       "    <tr>\n",
       "      <th>India</th>\n",
       "      <td>27894800</td>\n",
       "    </tr>\n",
       "    <tr>\n",
       "      <th>Brazil</th>\n",
       "      <td>16471600</td>\n",
       "    </tr>\n",
       "  </tbody>\n",
       "</table>\n",
       "</div>"
      ],
      "text/plain": [
       "                 5/29/21\n",
       "Country/Region          \n",
       "US              33251939\n",
       "India           27894800\n",
       "Brazil          16471600"
      ]
     },
     "execution_count": 160,
     "metadata": {},
     "output_type": "execute_result"
    }
   ],
   "source": [
    "top_countries"
   ]
  },
  {
   "cell_type": "code",
   "execution_count": 162,
   "id": "8cdaa76e",
   "metadata": {},
   "outputs": [],
   "source": [
    "top_countries.rename(columns={'5/29/21':'Total Cases'}, inplace=True)"
   ]
  },
  {
   "cell_type": "code",
   "execution_count": 191,
   "id": "8e53a33b",
   "metadata": {},
   "outputs": [
    {
     "data": {
      "text/plain": [
       "Index(['US', 'India', 'Brazil'], dtype='object', name='Country/Region')"
      ]
     },
     "execution_count": 191,
     "metadata": {},
     "output_type": "execute_result"
    }
   ],
   "source": [
    "top_countries.index"
   ]
  },
  {
   "cell_type": "code",
   "execution_count": 164,
   "id": "e78cca51",
   "metadata": {},
   "outputs": [],
   "source": [
    "import matplotlib.pyplot as plt"
   ]
  },
  {
   "cell_type": "code",
   "execution_count": 173,
   "id": "33ce2909",
   "metadata": {},
   "outputs": [
    {
     "data": {
      "image/png": "[encoded data removed]",
      "text/plain": [
       "<Figure size 400x300 with 1 Axes>"
      ]
     },
     "metadata": {},
     "output_type": "display_data"
    }
   ],
   "source": [
    "plt.figure(figsize=(4,3))\n",
    "\n",
    "plt.bar(data=top_countries, x=top_countries.index, height='Total Cases')\n",
    "\n",
    "plt.show()"
   ]
  },
  {
   "cell_type": "markdown",
   "id": "6bcee632",
   "metadata": {},
   "source": [
    "### Daily cases progression for Top Countries"
   ]
  },
  {
   "cell_type": "code",
   "execution_count": 200,
   "id": "745d992e",
   "metadata": {},
   "outputs": [
    {
     "data": {
      "image/png": "[encoded data removed]",
      "text/plain": [
       "<Figure size 1000x400 with 1 Axes>"
      ]
     },
     "metadata": {},
     "output_type": "display_data"
    }
   ],
   "source": [
    "countries = top_countries.index\n",
    "\n",
    "plt.figure(figsize=(10,4))\n",
    "\n",
    "for country in countries:\n",
    "    data = confirmed_cases[confirmed_cases['Country/Region']==country].iloc[:,4:]\n",
    "    data = pd.melt(data)\n",
    "    plt.plot(data['variable'], data['value'], label=country)\n",
    "    \n",
    "plt.legend()\n",
    "plt.show()"
   ]
  },
  {
   "cell_type": "markdown",
   "id": "e55fe8fe",
   "metadata": {},
   "source": [
    "### Confirmed Cases of China plot"
   ]
  },
  {
   "cell_type": "code",
   "execution_count": 214,
   "id": "d7048373",
   "metadata": {},
   "outputs": [
    {
     "name": "stdout",
     "output_type": "stream",
     "text": [
      "1/22/20       548\n",
      "1/23/20       643\n",
      "1/24/20       920\n",
      "1/25/20      1406\n",
      "1/26/20      2075\n",
      "            ...  \n",
      "5/25/21    102905\n",
      "5/26/21    102925\n",
      "5/27/21    102932\n",
      "5/28/21    102948\n",
      "5/29/21    102960\n",
      "Length: 494, dtype: int64\n"
     ]
    }
   ],
   "source": [
    "china_data = confirmed_cases[confirmed_cases['Country/Region']=='China'].iloc[:, 4:].sum()\n",
    "\n",
    "print(china_data)"
   ]
  },
  {
   "cell_type": "code",
   "execution_count": 225,
   "id": "9481a862",
   "metadata": {},
   "outputs": [
    {
     "data": {
      "image/png": "[encoded data removed]",
      "text/plain": [
       "<Figure size 1000x300 with 1 Axes>"
      ]
     },
     "metadata": {},
     "output_type": "display_data"
    }
   ],
   "source": [
    "plt.figure(figsize=(10,3))\n",
    "\n",
    "plt.plot(china_data.index, china_data.values)\n",
    "\n",
    "plt.title('China Cases')\n",
    "plt.xlabel('Day')\n",
    "plt.ylabel('Cases')\n",
    "plt.xticks(china_data.index[0::30], rotation=45)\n",
    "plt.show()"
   ]
  },
  {
   "cell_type": "code",
   "execution_count": null,
   "id": "32991156",
   "metadata": {},
   "outputs": [],
   "source": []
  },
  {
   "cell_type": "code",
   "execution_count": null,
   "id": "fcb22970",
   "metadata": {},
   "outputs": [],
   "source": []
  },
  {
   "cell_type": "code",
   "execution_count": null,
   "id": "88afce89",
   "metadata": {},
   "outputs": [],
   "source": []
  },
  {
   "cell_type": "code",
   "execution_count": null,
   "id": "ae395bd3",
   "metadata": {},
   "outputs": [],
   "source": []
  },
  {
   "cell_type": "code",
   "execution_count": null,
   "id": "58cbc0da",
   "metadata": {},
   "outputs": [],
   "source": []
  },
  {
   "cell_type": "code",
   "execution_count": 251,
   "id": "7261c89f",
   "metadata": {},
   "outputs": [
    {
     "name": "stdout",
     "output_type": "stream",
     "text": [
      "117900.0\n",
      "4/11/21\n"
     ]
    }
   ],
   "source": [
    "countries = ['Germany','France','Italy']\n",
    "\n",
    "country_data = confirmed_cases[confirmed_cases['Country/Region']=='France'].iloc[:,4:].sum().diff().fillna(0)\n",
    "\n",
    "max_cases = country_data.values.max()\n",
    "print(max_cases)\n",
    "\n",
    "date = country_data.idxmax()\n",
    "print(date)"
   ]
  },
  {
   "cell_type": "code",
   "execution_count": 245,
   "id": "2c7cd73a",
   "metadata": {},
   "outputs": [
    {
     "data": {
      "text/plain": [
       "1/22/20        0.0\n",
       "1/23/20        0.0\n",
       "1/24/20        2.0\n",
       "1/25/20        1.0\n",
       "1/26/20        0.0\n",
       "            ...   \n",
       "5/25/21     3155.0\n",
       "5/26/21    12657.0\n",
       "5/27/21    13933.0\n",
       "5/28/21    11274.0\n",
       "5/29/21    11527.0\n",
       "Length: 494, dtype: float64"
      ]
     },
     "execution_count": 245,
     "metadata": {},
     "output_type": "execute_result"
    }
   ],
   "source": [
    "country_data"
   ]
  },
  {
   "cell_type": "code",
   "execution_count": null,
   "id": "f9a4fd17",
   "metadata": {},
   "outputs": [],
   "source": []
  }
 ],
 "metadata": {
  "kernelspec": {
   "display_name": "Python 3 (ipykernel)",
   "language": "python",
   "name": "python3"
  },
  "language_info": {
   "codemirror_mode": {
    "name": "ipython",
    "version": 3
   },
   "file_extension": ".py",
   "mimetype": "text/x-python",
   "name": "python",
   "nbconvert_exporter": "python",
   "pygments_lexer": "ipython3",
   "version": "3.11.5"
  }
 },
 "nbformat": 4,
 "nbformat_minor": 5
}
